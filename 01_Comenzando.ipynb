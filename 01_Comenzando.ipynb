{
  "cells": [
    {
      "cell_type": "markdown",
      "metadata": {
        "id": "view-in-github",
        "colab_type": "text"
      },
      "source": [
        "<a href=\"https://colab.research.google.com/github/sebabecerra/CursoBasicoPython/blob/main/01_Comenzando.ipynb\" target=\"_parent\"><img src=\"https://colab.research.google.com/assets/colab-badge.svg\" alt=\"Open In Colab\"/></a>"
      ]
    },
    {
      "cell_type": "markdown",
      "metadata": {
        "id": "KtHs7Rb9lDC0"
      },
      "source": [
        "# Introducción a Jupyter Notebooks en Colab\n",
        "\n",
        "## Opciones para crear un Colab Notebook:\n",
        "- Ve a [colab.research.google.com](https://colab.research.google.com)\n",
        "- O en [drive.google.com](https://drive.google.com)\n",
        "  - Selecciona \"+ Nuevo\" en la esquina superior derecha\n",
        "  - Selecciona \"Más\" y luego \"Google Colaboratory\"\n",
        "\n",
        "**NOTA:** Para ambas opciones debes estar conectado a tu cuenta de Google.\n",
        "\n",
        "# Introducción a Jupyter Notebooks en Visual Studio Code\n",
        "\n",
        "## Opciones para crear un Jupyter Notebook en Visual Studio Code:\n",
        "- Abre Visual Studio Code.\n",
        "- Instala la extensión de Python y Jupyter si no lo has hecho.\n",
        "- Presiona `Ctrl+Shift+P` (o `Cmd+Shift+P` en Mac) para abrir la paleta de comandos.\n",
        "- Escribe `Jupyter: Create New Blank Notebook` y selecciona la opción.\n",
        "\n",
        "**NOTA:** Necesitarás tener instalado Python en tu sistema y configurado en Visual Studio Code.\n"
      ]
    },
    {
      "cell_type": "markdown",
      "metadata": {
        "id": "VBXhTX4cV-w0"
      },
      "source": [
        "## Agregar y mover celdas\n",
        "\n",
        "Añade nuevas celdas usando los botones **+ CÓDIGO** y **+ TEXTO** que aparecen al pasar el cursor entre las celdas.\n",
        "\n",
        "Puedes mover una celda seleccionándola y haciendo clic en **Celda Arriba** o **Celda Abajo** en la barra de herramientas superior."
      ]
    },
    {
      "cell_type": "markdown",
      "metadata": {
        "id": "oYRz_DkflDC2"
      },
      "source": [
        "## Celda Markdown vs. Celda Python"
      ]
    },
    {
      "cell_type": "markdown",
      "metadata": {
        "id": "YtHqbPyVlDC2"
      },
      "source": [
        "#### Ejemplo de Markdown\n",
        "Esta es una celda markdown."
      ]
    },
    {
      "cell_type": "markdown",
      "metadata": {
        "id": "RDvcZiK3YxBI"
      },
      "source": [
        "#### Ejemplo de Python"
      ]
    },
    {
      "cell_type": "code",
      "execution_count": null,
      "metadata": {
        "colab": {
          "base_uri": "https://localhost:8080/",
          "height": 35
        },
        "id": "NzpvOnLglDC2",
        "outputId": "30094308-dea4-4c0d-b88d-00502d1b0b24"
      },
      "outputs": [
        {
          "data": {
            "text/plain": [
              "'Esta es una celda en Pyhton'"
            ]
          },
          "execution_count": 3,
          "metadata": {},
          "output_type": "execute_result"
        }
      ],
      "source": [
        "\"Esta es una celda en Pyhton\""
      ]
    },
    {
      "cell_type": "markdown",
      "metadata": {
        "id": "E8vANqitlDC1"
      },
      "source": [
        "## Cómo Ejecutar una Celda\n",
        "\n",
        "*Forma Fácil:* Haz clic en el botón de ejecutar.\n",
        "\n",
        "*Forma Profesional:* Con la celda seleccionada, escribe **Cmd/Ctrl+Enter**.\n",
        "\n",
        "*Otros Consejos Profesionales:*\n",
        "* Escribe **Shift+Enter** para ejecutar la celda y mover la selección a la siguiente celda.\n",
        "* Escribe **Alt+Enter** para ejecutar la celda e insertar una nueva celda de código debajo."
      ]
    },
    {
      "cell_type": "code",
      "execution_count": null,
      "metadata": {
        "colab": {
          "base_uri": "https://localhost:8080/"
        },
        "id": "VUu7zqeslDC1",
        "outputId": "89a709a6-f825-4a13-89d7-e9e54ae99662"
      },
      "outputs": [
        {
          "data": {
            "text/plain": [
              "4"
            ]
          },
          "execution_count": 4,
          "metadata": {},
          "output_type": "execute_result"
        }
      ],
      "source": [
        "2 + 2"
      ]
    },
    {
      "cell_type": "code",
      "execution_count": null,
      "metadata": {
        "id": "cbAq5QjYiKFl",
        "outputId": "349dcb75-2651-4569-8deb-d7aec08ad3ff"
      },
      "outputs": [
        {
          "name": "stdout",
          "output_type": "stream",
          "text": [
            "Hola xx\n"
          ]
        }
      ],
      "source": [
        "nombre = 'xx'\n",
        "print('Hola' + ' ' + nombre)"
      ]
    },
    {
      "cell_type": "markdown",
      "metadata": {
        "id": "en-IAd0ylDC2"
      },
      "source": [
        "## Conceptos Básicos de Python\n",
        "\n",
        "Las celdas imprimen sus resultados debajo de ellas."
      ]
    },
    {
      "cell_type": "code",
      "execution_count": null,
      "metadata": {
        "colab": {
          "base_uri": "https://localhost:8080/"
        },
        "id": "L3_veGbZfGMq",
        "outputId": "55a50930-74fc-4e9b-8a95-d45cf99b2390"
      },
      "outputs": [
        {
          "data": {
            "text/plain": [
              "4"
            ]
          },
          "execution_count": 3,
          "metadata": {},
          "output_type": "execute_result"
        }
      ],
      "source": [
        "2 + 2"
      ]
    },
    {
      "cell_type": "markdown",
      "metadata": {
        "id": "kMfjQfxYfoPI"
      },
      "source": [
        "Si tienes múltiples líneas, solo se mostrará la última línea.\n"
      ]
    },
    {
      "cell_type": "code",
      "execution_count": null,
      "metadata": {
        "colab": {
          "base_uri": "https://localhost:8080/"
        },
        "id": "TDYU5xKafRMD",
        "outputId": "9939e8fb-788a-447e-d921-a2582f9bbf7e"
      },
      "outputs": [
        {
          "data": {
            "text/plain": [
              "9"
            ]
          },
          "execution_count": 8,
          "metadata": {},
          "output_type": "execute_result"
        }
      ],
      "source": [
        "2 + 2\n",
        "3 * 3"
      ]
    },
    {
      "cell_type": "markdown",
      "metadata": {
        "id": "kIva8-Tsf48e"
      },
      "source": [
        "La función `print()` muestra el mensaje especificado en la consola, permitiéndote visualizar texto, variables o los resultados de expresiones.\n",
        "- Nota: Cubriremos funciones (por ejemplo, `sum()`, `max()`) en una lección próxima, pero entiende que esta es una de muchas funciones de Python para realizar tareas comunes."
      ]
    },
    {
      "cell_type": "code",
      "execution_count": null,
      "metadata": {
        "colab": {
          "base_uri": "https://localhost:8080/"
        },
        "id": "Dn_qjN6Gf4ex",
        "outputId": "489d2ddd-20ed-4411-9e00-fa7a18c3f90f"
      },
      "outputs": [
        {
          "name": "stdout",
          "output_type": "stream",
          "text": [
            "Hola xx\n",
            "What's Up, Data Nerds\n",
            "4\n",
            "9\n"
          ]
        }
      ],
      "source": [
        "print('Hola' + ' ' + nombre)\n",
        "print(\"What's Up, Data Nerds\")\n",
        "print(2 + 2)\n",
        "print(3 * 3)"
      ]
    },
    {
      "cell_type": "markdown",
      "metadata": {
        "id": "3GILAGL6ggFh"
      },
      "source": [
        "Técnicamente, podría eliminar la última función print."
      ]
    },
    {
      "cell_type": "code",
      "execution_count": null,
      "metadata": {
        "colab": {
          "base_uri": "https://localhost:8080/"
        },
        "id": "7xbuLdyulDC2",
        "outputId": "8b12f675-505c-41c8-f999-4162cf6d17c7"
      },
      "outputs": [
        {
          "name": "stdout",
          "output_type": "stream",
          "text": [
            "What's Up, Data Nerds\n",
            "4\n"
          ]
        },
        {
          "data": {
            "text/plain": [
              "9"
            ]
          },
          "execution_count": 10,
          "metadata": {},
          "output_type": "execute_result"
        }
      ],
      "source": [
        "print(\"What's Up, Data Nerds\")\n",
        "print(2 + 2)\n",
        "3 * 3"
      ]
    },
    {
      "cell_type": "markdown",
      "metadata": {
        "id": "dJM08h3VlDC2"
      },
      "source": [
        "#### Hacer un Comentario\n",
        "\n",
        "¿Qué pasa si quieres incluir algo en tu código como una nota?  \n",
        "- Incluye un `#` antes de la línea\n",
        "- Esto se llama un comentario\n",
        "\n",
        "No ejecuta nada y no es leído por el intérprete de Python al ejecutar tu código."
      ]
    },
    {
      "cell_type": "code",
      "execution_count": null,
      "metadata": {
        "id": "CX_UXTDilDC3"
      },
      "outputs": [],
      "source": [
        "# Esto es un comentario. Nada a la derecha del signo \"#\" será interpretado\n"
      ]
    },
    {
      "cell_type": "code",
      "execution_count": null,
      "metadata": {
        "colab": {
          "base_uri": "https://localhost:8080/"
        },
        "id": "K9slvGiQgxUs",
        "outputId": "65f34568-6c38-407d-df12-3b81a28c3621"
      },
      "outputs": [
        {
          "name": "stdout",
          "output_type": "stream",
          "text": [
            "¿Qué tal, Nerds de Datos?\n",
            "4\n"
          ]
        },
        {
          "data": {
            "text/plain": [
              "9"
            ]
          },
          "execution_count": 11,
          "metadata": {},
          "output_type": "execute_result"
        }
      ],
      "source": [
        "# Esto es un comentario\n",
        "\n",
        "print(\"What's Up, Data Nerds\")\n",
        "print(2 + 2) # Esto también es un comentario\n",
        "3 * 3\n"
      ]
    },
    {
      "cell_type": "markdown",
      "metadata": {
        "id": "5Dh7ROpkY0js"
      },
      "source": [
        "## Conceptos Básicos de Markdown\n",
        "\n",
        "Markdown es un lenguaje de marcado ligero que utiliza caracteres como # para encabezados y * para énfasis, para formatear texto de manera simple e intuitiva.\n"
      ]
    },
    {
      "cell_type": "markdown",
      "metadata": {
        "id": "tlt-IiEoXL7K"
      },
      "source": [
        "| Elemento       | Sintaxis de Markdown                   |\n",
        "|----------------|----------------------------------------|\n",
        "| Encabezado     | `# H1`<br>`## H2`<br>`### H3`          |\n",
        "| Negrita        | `**texto en negrita**`                 |\n",
        "| Cursiva        | `*texto en cursiva*`                   |\n",
        "| Cita           | `> cita`                               |\n",
        "| Lista ordenada | `1. Primer elemento`<br>`2. Segundo elemento`<br>`3. Tercer elemento` |\n",
        "| Lista desordenada | `- Primer elemento`<br>`- Segundo elemento`<br>`- Tercer elemento` |\n",
        "| Código         | `` `código` ``                         |\n",
        "| Línea horizontal| `---`                                 |\n",
        "| Enlace         | `[título](https://www.ejemplo.com)`    |\n",
        "| Imagen         | `![texto alternativo](imagen.jpg)`     |\n",
        "\n",
        "[Aquí hay más información sobre Markdown](https://www.markdownguide.org/basic-syntax/)\n"
      ]
    },
    {
      "cell_type": "markdown",
      "metadata": {
        "id": "IucEjsFfhgmY"
      },
      "source": [
        "## Guía de Colab\n",
        "\n",
        "#### Menú de la Barra Lateral (Izquierda-Superior)\n",
        "- Tabla de Contenidos\n",
        "- Buscar y Reemplazar\n",
        "- Variables\n",
        "- Secretos\n",
        "- Archivos\n",
        "\n",
        "#### Menú de la Barra Lateral (Izquierda-Inferior)\n",
        "- Fragmentos de Código\n",
        "- Paleta de Comandos\n",
        "- Terminal\n",
        "\n",
        "#### Barra de Menú Superior\n",
        "- Runtime: Controla la ejecución de las celdas y reinicio del notebook\n",
        "\n",
        "#### Encabezado de Colab (Superior)\n",
        "- Uso de RAM y Disco\n",
        "- Colab AI (puede o no estar disponible)\n"
      ]
    },
    {
      "cell_type": "markdown",
      "metadata": {
        "id": "h5-DxioaiKFp"
      },
      "source": [
        "## Guía de Visual Studio Code\n",
        "\n",
        "#### Menú de la Barra Lateral (Izquierda-Superior)\n",
        "- Explorador de Archivos\n",
        "- Búsqueda\n",
        "- Control de Código Fuente\n",
        "- Depuración\n",
        "- Extensiones\n",
        "\n",
        "#### Menú de la Barra Lateral (Izquierda-Inferior)\n",
        "- Administrador de Cuentas\n",
        "- Configuración\n",
        "\n",
        "#### Barra de Menú Superior\n",
        "- Archivo: Crear, abrir, guardar archivos y proyectos\n",
        "- Editar: Operaciones de edición como deshacer, rehacer, copiar, pegar\n",
        "- Ver: Opciones para cambiar la vista, abrir la terminal integrada\n",
        "- Ir: Navegación entre archivos y símbolos\n",
        "- Ejecutar: Controla la ejecución y depuración del código\n",
        "- Ayuda: Documentación y soporte\n",
        "\n",
        "#### Barra de Estado (Inferior)\n",
        "- Indicadores de información como el lenguaje de programación activo, el estado de Git y errores/warnings\n",
        "- Accesos rápidos a configuraciones y terminal integrada\n"
      ]
    },
    {
      "cell_type": "markdown",
      "metadata": {
        "id": "95YKvLs_m-ML"
      },
      "source": [
        "### Runtime a Fondo\n",
        "\n",
        "#### Colab\n",
        "\n",
        "**Ejecutar Todo:**\n",
        "- ⚙️ Ejecuta todas las celdas del notebook en secuencia  \n",
        "\n",
        "**Interrumpir Ejecución:**\n",
        "- 🛑 Detiene la ejecución de la celda actual  \n",
        "\n",
        "**Reiniciar Sesión:**\n",
        "- 🔄 Restablece el kernel del notebook, limpiando toda la memoria del código ejecutado  \n",
        "- ✨ No se ejecutará ningún código después a menos que se ejecute manualmente  \n",
        "\n",
        "**Desconectar y Eliminar Runtime:**\n",
        "- ❌ Detiene el notebook, libera recursos y elimina cualquier archivo temporal creado durante la sesión\n",
        "\n",
        "#### Visual Studio Code\n",
        "\n",
        "**Ejecutar Todo:**\n",
        "- ⚙️ Ejecuta todas las celdas del notebook en secuencia  \n",
        "\n",
        "**Interrumpir Ejecución:**\n",
        "- 🛑 Detiene la ejecución de la celda actual  \n",
        "\n",
        "**Reiniciar Kernel:**\n",
        "- 🔄 Restablece el kernel del notebook, limpiando toda la memoria del código ejecutado  \n",
        "- ✨ No se ejecutará ningún código después a menos que se ejecute manualmente  \n",
        "\n",
        "**Interrumpir y Reiniciar:**\n",
        "- ❌ Detiene el notebook, libera recursos y elimina cualquier archivo temporal creado durante la sesión\n"
      ]
    },
    {
      "cell_type": "markdown",
      "metadata": {
        "id": "2bxBnWjmmAND"
      },
      "source": [
        "## Uso Avanzado de Jupyter Notebook y Visual Studio Code\n",
        "\n",
        "No te preocupes si no entiendes esto ahora mismo, lo cubriremos más adelante.\n",
        "\n",
        "A continuación se muestran algunos comandos útiles para trabajar tanto en Colab como en Visual Studio Code.\n",
        "\n",
        "#### Ejemplos Comunes\n",
        "\n",
        "| Comando        | Ejemplo                  | Explicación de Uso                                                   |\n",
        "|----------------|--------------------------|----------------------------------------------------------------------|\n",
        "| `dir`          | `!dir`                   | Lista los archivos y directorios en el directorio actual (Windows).  |\n",
        "| `mkdir`        | `!mkdir new_folder`      | Crea un nuevo directorio llamado `new_folder`.                       |\n",
        "| `cd`           | `!cd`                    | Imprime el directorio de trabajo actual (Windows).                   |\n",
        "| `cd`           | `!cd sample_data`        | Cambia el directorio actual a `sample_data`.                         |\n",
        "\n"
      ]
    }
  ],
  "metadata": {
    "colab": {
      "provenance": [],
      "include_colab_link": true
    },
    "kernelspec": {
      "display_name": "venv3",
      "language": "python",
      "name": "python3"
    },
    "language_info": {
      "codemirror_mode": {
        "name": "ipython",
        "version": 3
      },
      "file_extension": ".py",
      "mimetype": "text/x-python",
      "name": "python",
      "nbconvert_exporter": "python",
      "pygments_lexer": "ipython3",
      "version": "3.11.5"
    }
  },
  "nbformat": 4,
  "nbformat_minor": 0
}