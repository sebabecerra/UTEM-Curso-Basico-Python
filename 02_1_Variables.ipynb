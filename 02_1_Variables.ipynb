{
  "cells": [
    {
      "cell_type": "markdown",
      "metadata": {
        "id": "view-in-github",
        "colab_type": "text"
      },
      "source": [
        "<a href=\"https://colab.research.google.com/github/sebabecerra/CursoBasicoPython/blob/main/02_1_Variables.ipynb\" target=\"_parent\"><img src=\"https://colab.research.google.com/assets/colab-badge.svg\" alt=\"Open In Colab\"/></a>"
      ]
    },
    {
      "cell_type": "markdown",
      "metadata": {
        "id": "hdwC92nA4Vw9"
      },
      "source": [
        "# Variables"
      ]
    },
    {
      "cell_type": "markdown",
      "metadata": {
        "id": "GXifHdAIE2gT"
      },
      "source": [
        "## Crear una Variable\n",
        "\n",
        "### Notas\n",
        "\n",
        "* Una variable se crea en el momento en que le asignas un valor.\n",
        "* Las variables no necesitan ser declaradas con ningún *tipo*.\n",
        "* Las variables pueden cambiar de tipo incluso después de haber sido establecidas.\n",
        "\n",
        "El nombre de la variable va en el lado izquierdo del operador de asignación (`=`), y el valor o expresión que deseas asignar a esa variable va en el lado derecho. Será así:\n",
        "\n",
        "```python\n",
        "variable_name = value\n",
        "```\n",
        "\n",
        "### Ejemplos"
      ]
    },
    {
      "cell_type": "code",
      "execution_count": null,
      "metadata": {
        "id": "_HnzFB0XvZxW"
      },
      "outputs": [],
      "source": [
        "sueldo_base = 100000"
      ]
    },
    {
      "cell_type": "markdown",
      "metadata": {
        "id": "7nkGt3T9vZxX"
      },
      "source": [
        "También puedes realizar operaciones utilizando variables."
      ]
    },
    {
      "cell_type": "code",
      "execution_count": null,
      "metadata": {
        "id": "elaB91YRvZxX"
      },
      "outputs": [],
      "source": [
        "bonus_rate = 0.1\n",
        "\n",
        "salario_total = sueldo_base * (1 + bonus_rate)"
      ]
    },
    {
      "cell_type": "markdown",
      "metadata": {
        "id": "pSvP457kvZxX"
      },
      "source": [
        "Pero, ¿cómo podemos ver cuál es el salario total? Podemos imprimir la variable utilizando la función `print()` o simplemente llamarla."
      ]
    },
    {
      "cell_type": "code",
      "execution_count": null,
      "metadata": {
        "id": "VySIGxHjvZxY",
        "outputId": "4e7d0d67-b11a-4aa1-a965-09b4482c8541"
      },
      "outputs": [
        {
          "data": {
            "text/plain": [
              "110000.00000000001"
            ]
          },
          "execution_count": 3,
          "metadata": {},
          "output_type": "execute_result"
        }
      ],
      "source": [
        "#LLamando la variable\n",
        "salario_total"
      ]
    },
    {
      "cell_type": "code",
      "execution_count": null,
      "metadata": {
        "id": "OvM7MYPJvZxY",
        "outputId": "7bdc2fd6-7aa6-4d68-d056-d5521bf8a3f4"
      },
      "outputs": [
        {
          "name": "stdout",
          "output_type": "stream",
          "text": [
            "110000.00000000001\n"
          ]
        }
      ],
      "source": [
        "# Imprimiendo la variable\n",
        "print(salario_total)"
      ]
    },
    {
      "cell_type": "markdown",
      "metadata": {
        "id": "txhYrtZjvZxZ"
      },
      "source": [
        "## Las Variables No Son Solo Números\n",
        "\n",
        "### Notas\n",
        "\n",
        "* Podemos almacenar diferentes tipos de datos en variables.\n",
        "* **Nota:** Cubriremos más sobre tipos de datos más adelante.\n",
        "\n",
        "### Ejemplo\n",
        "* Crea variables para almacenar la siguiente información sobre una oferta de trabajo:\n",
        "  * ID del Trabajo (entero)\n",
        "  * Nombre de la Empresa (cadena de texto)\n",
        "  * Tasa de Salario (cadena de texto, pero considera cómo podrías almacenarla como un tipo numérico para cálculos)\n",
        "  * Trabajo Desde Casa (booleano)"
      ]
    },
    {
      "cell_type": "code",
      "execution_count": null,
      "metadata": {
        "id": "kZBprbvDd2aJ"
      },
      "outputs": [],
      "source": [
        "job_id = 101\n",
        "company_name = 'CMF.'\n",
        "job_title = 'Analista'\n",
        "salario = 125000\n",
        "job_work_from_home = True"
      ]
    },
    {
      "cell_type": "markdown",
      "metadata": {
        "id": "JQ2UFIT8hur8"
      },
      "source": [
        "Podemos usar la función `print()` para mostrar todas las variables:"
      ]
    },
    {
      "cell_type": "code",
      "execution_count": null,
      "metadata": {
        "colab": {
          "base_uri": "https://localhost:8080/"
        },
        "id": "DBsWe-Z9eK-i",
        "outputId": "03426fbf-716a-4993-cbb0-9c221f13c263"
      },
      "outputs": [
        {
          "name": "stdout",
          "output_type": "stream",
          "text": [
            "Job ID:       101\n",
            "Company Name: CMF.\n",
            "Job Title:    Analista\n",
            "Salary:       125000\n",
            "WFH:          True\n"
          ]
        }
      ],
      "source": [
        "# This won't print out the variable name.\n",
        "print(\"Job ID:      \", job_id)\n",
        "print(\"Company Name:\", company_name)\n",
        "print(\"Job Title:   \", job_title)\n",
        "print(\"Salary:      \", salario)\n",
        "print(\"WFH:         \", job_work_from_home)"
      ]
    },
    {
      "cell_type": "markdown",
      "metadata": {
        "id": "RgyNcPS4vZxa"
      },
      "source": [
        "## Objetos en Python\n",
        "\n",
        "Algo que debes entender: todo lo almacenado en Python se considera un **objeto**. Esto incluye todos los tipos de datos de los que hemos hablado y de los que hablaremos.\n",
        "\n",
        "Los objetos son un concepto fundamental en Python, y exploraremos más sobre lo que hacen en las secciones siguientes."
      ]
    }
  ],
  "metadata": {
    "colab": {
      "provenance": [],
      "include_colab_link": true
    },
    "kernelspec": {
      "display_name": "Python 3",
      "name": "python3"
    },
    "language_info": {
      "codemirror_mode": {
        "name": "ipython",
        "version": 3
      },
      "file_extension": ".py",
      "mimetype": "text/x-python",
      "name": "python",
      "nbconvert_exporter": "python",
      "pygments_lexer": "ipython3",
      "version": "3.11.5"
    }
  },
  "nbformat": 4,
  "nbformat_minor": 0
}