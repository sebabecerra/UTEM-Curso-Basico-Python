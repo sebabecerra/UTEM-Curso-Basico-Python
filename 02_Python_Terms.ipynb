{
  "cells": [
    {
      "cell_type": "markdown",
      "metadata": {
        "id": "view-in-github",
        "colab_type": "text"
      },
      "source": [
        "<a href=\"https://colab.research.google.com/github/sebabecerra/CursoBasicoPython/blob/main/02_Python_Terms.ipynb\" target=\"_parent\"><img src=\"https://colab.research.google.com/assets/colab-badge.svg\" alt=\"Open In Colab\"/></a>"
      ]
    },
    {
      "cell_type": "markdown",
      "id": "121fe821",
      "metadata": {
        "id": "121fe821"
      },
      "source": [
        "## Términos de Python\n",
        "\n",
        "#### Términos que debes conocer:\n",
        "- **Objeto**: Una instancia de una clase. Todo en Python es un objeto.\n",
        "- **Variable**: Un nombre que se refiere a un valor almacenado en la memoria.\n",
        "- **Función**: Un bloque de código reutilizable que realiza una tarea específica. Se define con la palabra clave `def`.\n",
        "- **Clase**: Una plantilla para crear objetos. Define atributos y métodos.\n",
        "- **Método**: Una función que pertenece a un objeto. Se define dentro de una clase.\n",
        "- **Atributo**: Una variable que pertenece a un objeto. Se define dentro de una clase.\n"
      ]
    },
    {
      "cell_type": "markdown",
      "id": "c1ea1f9e",
      "metadata": {
        "id": "c1ea1f9e"
      },
      "source": [
        "### Objetos: Los Registros de Datos\n",
        "\n",
        "En análisis de datos, un objeto es como un registro en tu hoja de cálculo. Cada registro puede tener múltiples campos, como título del trabajo, ubicación y salario.\n",
        "\n",
        "**Objeto**: Un registro de datos con campos; una instancia de una clase."
      ]
    },
    {
      "cell_type": "code",
      "execution_count": null,
      "id": "e0ff7c37",
      "metadata": {
        "id": "e0ff7c37",
        "outputId": "9bf3066e-8124-48b3-94c0-74661df3a6b9"
      },
      "outputs": [
        {
          "data": {
            "text/plain": [
              "90000"
            ]
          },
          "execution_count": 1,
          "metadata": {},
          "output_type": "execute_result"
        }
      ],
      "source": [
        "90000  # esto es un objeto"
      ]
    },
    {
      "cell_type": "code",
      "execution_count": null,
      "id": "968ee59f",
      "metadata": {
        "id": "968ee59f",
        "outputId": "4d1f9c37-afb6-400b-8198-b3809365612c"
      },
      "outputs": [
        {
          "data": {
            "text/plain": [
              "'Data Analyst'"
            ]
          },
          "execution_count": 2,
          "metadata": {},
          "output_type": "execute_result"
        }
      ],
      "source": [
        "\"Data Analyst\"  #tambien es un objeto"
      ]
    },
    {
      "cell_type": "markdown",
      "id": "c184687a",
      "metadata": {
        "id": "c184687a"
      },
      "source": [
        "Python es orientado a objetos, por lo que incluso los tipos de datos son objetos."
      ]
    },
    {
      "cell_type": "code",
      "execution_count": null,
      "id": "34181ac4",
      "metadata": {
        "id": "34181ac4",
        "outputId": "b857fdcd-c460-4c20-895d-779b41467732"
      },
      "outputs": [
        {
          "data": {
            "text/plain": [
              "str"
            ]
          },
          "execution_count": 3,
          "metadata": {},
          "output_type": "execute_result"
        }
      ],
      "source": [
        "type(\"Data Analyst\") # esto muestra que esto es una instancia de la clase 'str'"
      ]
    },
    {
      "cell_type": "code",
      "execution_count": null,
      "id": "a0754fd8",
      "metadata": {
        "id": "a0754fd8",
        "outputId": "c6daf459-845e-4257-d1f8-409dd2d1c5ca"
      },
      "outputs": [
        {
          "data": {
            "text/plain": [
              "str"
            ]
          },
          "execution_count": 49,
          "metadata": {},
          "output_type": "execute_result"
        }
      ],
      "source": [
        "type(\"What's up, Data Nerds!\")"
      ]
    },
    {
      "cell_type": "code",
      "execution_count": null,
      "id": "e93b1046",
      "metadata": {
        "id": "e93b1046",
        "outputId": "6f739080-2496-45fc-ee85-d4627aae60f8"
      },
      "outputs": [
        {
          "data": {
            "text/plain": [
              "str"
            ]
          },
          "execution_count": 4,
          "metadata": {},
          "output_type": "execute_result"
        }
      ],
      "source": [
        "str # ¡técnicamente, esto también es un objeto! ya que es una instancia de la clase 'type'"
      ]
    },
    {
      "cell_type": "code",
      "execution_count": null,
      "id": "b963cd43",
      "metadata": {
        "id": "b963cd43"
      },
      "outputs": [],
      "source": [
        "La función `help(str)` muestra la documentación de la clase str"
      ]
    },
    {
      "cell_type": "code",
      "execution_count": null,
      "id": "f1d69b09",
      "metadata": {
        "id": "f1d69b09",
        "outputId": "e6a7bcd0-b159-4427-9d1d-a4eed57b514a"
      },
      "outputs": [
        {
          "name": "stdout",
          "output_type": "stream",
          "text": [
            "Help on class str in module builtins:\n",
            "\n",
            "class str(object)\n",
            " |  str(object='') -> str\n",
            " |  str(bytes_or_buffer[, encoding[, errors]]) -> str\n",
            " |  \n",
            " |  Create a new string object from the given object. If encoding or\n",
            " |  errors is specified, then the object must expose a data buffer\n",
            " |  that will be decoded using the given encoding and error handler.\n",
            " |  Otherwise, returns the result of object.__str__() (if defined)\n",
            " |  or repr(object).\n",
            " |  encoding defaults to sys.getdefaultencoding().\n",
            " |  errors defaults to 'strict'.\n",
            " |  \n",
            " |  Methods defined here:\n",
            " |  \n",
            " |  __add__(self, value, /)\n",
            " |      Return self+value.\n",
            " |  \n",
            " |  __contains__(self, key, /)\n",
            " |      Return key in self.\n",
            " |  \n",
            " |  __eq__(self, value, /)\n",
            " |      Return self==value.\n",
            " |  \n",
            " |  __format__(self, format_spec, /)\n",
            " |      Return a formatted version of the string as described by format_spec.\n",
            " |  \n",
            " |  __ge__(self, value, /)\n",
            " |      Return self>=value.\n",
            " |  \n",
            " |  __getattribute__(self, name, /)\n",
            " |      Return getattr(self, name).\n",
            " |  \n",
            " |  __getitem__(self, key, /)\n",
            " |      Return self[key].\n",
            " |  \n",
            " |  __getnewargs__(...)\n",
            " |  \n",
            " |  __gt__(self, value, /)\n",
            " |      Return self>value.\n",
            " |  \n",
            " |  __hash__(self, /)\n",
            " |      Return hash(self).\n",
            " |  \n",
            " |  __iter__(self, /)\n",
            " |      Implement iter(self).\n",
            " |  \n",
            " |  __le__(self, value, /)\n",
            " |      Return self<=value.\n",
            " |  \n",
            " |  __len__(self, /)\n",
            " |      Return len(self).\n",
            " |  \n",
            " |  __lt__(self, value, /)\n",
            " |      Return self<value.\n",
            " |  \n",
            " |  __mod__(self, value, /)\n",
            " |      Return self%value.\n",
            " |  \n",
            " |  __mul__(self, value, /)\n",
            " |      Return self*value.\n",
            " |  \n",
            " |  __ne__(self, value, /)\n",
            " |      Return self!=value.\n",
            " |  \n",
            " |  __repr__(self, /)\n",
            " |      Return repr(self).\n",
            " |  \n",
            " |  __rmod__(self, value, /)\n",
            " |      Return value%self.\n",
            " |  \n",
            " |  __rmul__(self, value, /)\n",
            " |      Return value*self.\n",
            " |  \n",
            " |  __sizeof__(self, /)\n",
            " |      Return the size of the string in memory, in bytes.\n",
            " |  \n",
            " |  __str__(self, /)\n",
            " |      Return str(self).\n",
            " |  \n",
            " |  capitalize(self, /)\n",
            " |      Return a capitalized version of the string.\n",
            " |      \n",
            " |      More specifically, make the first character have upper case and the rest lower\n",
            " |      case.\n",
            " |  \n",
            " |  casefold(self, /)\n",
            " |      Return a version of the string suitable for caseless comparisons.\n",
            " |  \n",
            " |  center(self, width, fillchar=' ', /)\n",
            " |      Return a centered string of length width.\n",
            " |      \n",
            " |      Padding is done using the specified fill character (default is a space).\n",
            " |  \n",
            " |  count(...)\n",
            " |      S.count(sub[, start[, end]]) -> int\n",
            " |      \n",
            " |      Return the number of non-overlapping occurrences of substring sub in\n",
            " |      string S[start:end].  Optional arguments start and end are\n",
            " |      interpreted as in slice notation.\n",
            " |  \n",
            " |  encode(self, /, encoding='utf-8', errors='strict')\n",
            " |      Encode the string using the codec registered for encoding.\n",
            " |      \n",
            " |      encoding\n",
            " |        The encoding in which to encode the string.\n",
            " |      errors\n",
            " |        The error handling scheme to use for encoding errors.\n",
            " |        The default is 'strict' meaning that encoding errors raise a\n",
            " |        UnicodeEncodeError.  Other possible values are 'ignore', 'replace' and\n",
            " |        'xmlcharrefreplace' as well as any other name registered with\n",
            " |        codecs.register_error that can handle UnicodeEncodeErrors.\n",
            " |  \n",
            " |  endswith(...)\n",
            " |      S.endswith(suffix[, start[, end]]) -> bool\n",
            " |      \n",
            " |      Return True if S ends with the specified suffix, False otherwise.\n",
            " |      With optional start, test S beginning at that position.\n",
            " |      With optional end, stop comparing S at that position.\n",
            " |      suffix can also be a tuple of strings to try.\n",
            " |  \n",
            " |  expandtabs(self, /, tabsize=8)\n",
            " |      Return a copy where all tab characters are expanded using spaces.\n",
            " |      \n",
            " |      If tabsize is not given, a tab size of 8 characters is assumed.\n",
            " |  \n",
            " |  find(...)\n",
            " |      S.find(sub[, start[, end]]) -> int\n",
            " |      \n",
            " |      Return the lowest index in S where substring sub is found,\n",
            " |      such that sub is contained within S[start:end].  Optional\n",
            " |      arguments start and end are interpreted as in slice notation.\n",
            " |      \n",
            " |      Return -1 on failure.\n",
            " |  \n",
            " |  format(...)\n",
            " |      S.format(*args, **kwargs) -> str\n",
            " |      \n",
            " |      Return a formatted version of S, using substitutions from args and kwargs.\n",
            " |      The substitutions are identified by braces ('{' and '}').\n",
            " |  \n",
            " |  format_map(...)\n",
            " |      S.format_map(mapping) -> str\n",
            " |      \n",
            " |      Return a formatted version of S, using substitutions from mapping.\n",
            " |      The substitutions are identified by braces ('{' and '}').\n",
            " |  \n",
            " |  index(...)\n",
            " |      S.index(sub[, start[, end]]) -> int\n",
            " |      \n",
            " |      Return the lowest index in S where substring sub is found,\n",
            " |      such that sub is contained within S[start:end].  Optional\n",
            " |      arguments start and end are interpreted as in slice notation.\n",
            " |      \n",
            " |      Raises ValueError when the substring is not found.\n",
            " |  \n",
            " |  isalnum(self, /)\n",
            " |      Return True if the string is an alpha-numeric string, False otherwise.\n",
            " |      \n",
            " |      A string is alpha-numeric if all characters in the string are alpha-numeric and\n",
            " |      there is at least one character in the string.\n",
            " |  \n",
            " |  isalpha(self, /)\n",
            " |      Return True if the string is an alphabetic string, False otherwise.\n",
            " |      \n",
            " |      A string is alphabetic if all characters in the string are alphabetic and there\n",
            " |      is at least one character in the string.\n",
            " |  \n",
            " |  isascii(self, /)\n",
            " |      Return True if all characters in the string are ASCII, False otherwise.\n",
            " |      \n",
            " |      ASCII characters have code points in the range U+0000-U+007F.\n",
            " |      Empty string is ASCII too.\n",
            " |  \n",
            " |  isdecimal(self, /)\n",
            " |      Return True if the string is a decimal string, False otherwise.\n",
            " |      \n",
            " |      A string is a decimal string if all characters in the string are decimal and\n",
            " |      there is at least one character in the string.\n",
            " |  \n",
            " |  isdigit(self, /)\n",
            " |      Return True if the string is a digit string, False otherwise.\n",
            " |      \n",
            " |      A string is a digit string if all characters in the string are digits and there\n",
            " |      is at least one character in the string.\n",
            " |  \n",
            " |  isidentifier(self, /)\n",
            " |      Return True if the string is a valid Python identifier, False otherwise.\n",
            " |      \n",
            " |      Call keyword.iskeyword(s) to test whether string s is a reserved identifier,\n",
            " |      such as \"def\" or \"class\".\n",
            " |  \n",
            " |  islower(self, /)\n",
            " |      Return True if the string is a lowercase string, False otherwise.\n",
            " |      \n",
            " |      A string is lowercase if all cased characters in the string are lowercase and\n",
            " |      there is at least one cased character in the string.\n",
            " |  \n",
            " |  isnumeric(self, /)\n",
            " |      Return True if the string is a numeric string, False otherwise.\n",
            " |      \n",
            " |      A string is numeric if all characters in the string are numeric and there is at\n",
            " |      least one character in the string.\n",
            " |  \n",
            " |  isprintable(self, /)\n",
            " |      Return True if the string is printable, False otherwise.\n",
            " |      \n",
            " |      A string is printable if all of its characters are considered printable in\n",
            " |      repr() or if it is empty.\n",
            " |  \n",
            " |  isspace(self, /)\n",
            " |      Return True if the string is a whitespace string, False otherwise.\n",
            " |      \n",
            " |      A string is whitespace if all characters in the string are whitespace and there\n",
            " |      is at least one character in the string.\n",
            " |  \n",
            " |  istitle(self, /)\n",
            " |      Return True if the string is a title-cased string, False otherwise.\n",
            " |      \n",
            " |      In a title-cased string, upper- and title-case characters may only\n",
            " |      follow uncased characters and lowercase characters only cased ones.\n",
            " |  \n",
            " |  isupper(self, /)\n",
            " |      Return True if the string is an uppercase string, False otherwise.\n",
            " |      \n",
            " |      A string is uppercase if all cased characters in the string are uppercase and\n",
            " |      there is at least one cased character in the string.\n",
            " |  \n",
            " |  join(self, iterable, /)\n",
            " |      Concatenate any number of strings.\n",
            " |      \n",
            " |      The string whose method is called is inserted in between each given string.\n",
            " |      The result is returned as a new string.\n",
            " |      \n",
            " |      Example: '.'.join(['ab', 'pq', 'rs']) -> 'ab.pq.rs'\n",
            " |  \n",
            " |  ljust(self, width, fillchar=' ', /)\n",
            " |      Return a left-justified string of length width.\n",
            " |      \n",
            " |      Padding is done using the specified fill character (default is a space).\n",
            " |  \n",
            " |  lower(self, /)\n",
            " |      Return a copy of the string converted to lowercase.\n",
            " |  \n",
            " |  lstrip(self, chars=None, /)\n",
            " |      Return a copy of the string with leading whitespace removed.\n",
            " |      \n",
            " |      If chars is given and not None, remove characters in chars instead.\n",
            " |  \n",
            " |  partition(self, sep, /)\n",
            " |      Partition the string into three parts using the given separator.\n",
            " |      \n",
            " |      This will search for the separator in the string.  If the separator is found,\n",
            " |      returns a 3-tuple containing the part before the separator, the separator\n",
            " |      itself, and the part after it.\n",
            " |      \n",
            " |      If the separator is not found, returns a 3-tuple containing the original string\n",
            " |      and two empty strings.\n",
            " |  \n",
            " |  removeprefix(self, prefix, /)\n",
            " |      Return a str with the given prefix string removed if present.\n",
            " |      \n",
            " |      If the string starts with the prefix string, return string[len(prefix):].\n",
            " |      Otherwise, return a copy of the original string.\n",
            " |  \n",
            " |  removesuffix(self, suffix, /)\n",
            " |      Return a str with the given suffix string removed if present.\n",
            " |      \n",
            " |      If the string ends with the suffix string and that suffix is not empty,\n",
            " |      return string[:-len(suffix)]. Otherwise, return a copy of the original\n",
            " |      string.\n",
            " |  \n",
            " |  replace(self, old, new, count=-1, /)\n",
            " |      Return a copy with all occurrences of substring old replaced by new.\n",
            " |      \n",
            " |        count\n",
            " |          Maximum number of occurrences to replace.\n",
            " |          -1 (the default value) means replace all occurrences.\n",
            " |      \n",
            " |      If the optional argument count is given, only the first count occurrences are\n",
            " |      replaced.\n",
            " |  \n",
            " |  rfind(...)\n",
            " |      S.rfind(sub[, start[, end]]) -> int\n",
            " |      \n",
            " |      Return the highest index in S where substring sub is found,\n",
            " |      such that sub is contained within S[start:end].  Optional\n",
            " |      arguments start and end are interpreted as in slice notation.\n",
            " |      \n",
            " |      Return -1 on failure.\n",
            " |  \n",
            " |  rindex(...)\n",
            " |      S.rindex(sub[, start[, end]]) -> int\n",
            " |      \n",
            " |      Return the highest index in S where substring sub is found,\n",
            " |      such that sub is contained within S[start:end].  Optional\n",
            " |      arguments start and end are interpreted as in slice notation.\n",
            " |      \n",
            " |      Raises ValueError when the substring is not found.\n",
            " |  \n",
            " |  rjust(self, width, fillchar=' ', /)\n",
            " |      Return a right-justified string of length width.\n",
            " |      \n",
            " |      Padding is done using the specified fill character (default is a space).\n",
            " |  \n",
            " |  rpartition(self, sep, /)\n",
            " |      Partition the string into three parts using the given separator.\n",
            " |      \n",
            " |      This will search for the separator in the string, starting at the end. If\n",
            " |      the separator is found, returns a 3-tuple containing the part before the\n",
            " |      separator, the separator itself, and the part after it.\n",
            " |      \n",
            " |      If the separator is not found, returns a 3-tuple containing two empty strings\n",
            " |      and the original string.\n",
            " |  \n",
            " |  rsplit(self, /, sep=None, maxsplit=-1)\n",
            " |      Return a list of the substrings in the string, using sep as the separator string.\n",
            " |      \n",
            " |        sep\n",
            " |          The separator used to split the string.\n",
            " |      \n",
            " |          When set to None (the default value), will split on any whitespace\n",
            " |          character (including \\\\n \\\\r \\\\t \\\\f and spaces) and will discard\n",
            " |          empty strings from the result.\n",
            " |        maxsplit\n",
            " |          Maximum number of splits (starting from the left).\n",
            " |          -1 (the default value) means no limit.\n",
            " |      \n",
            " |      Splitting starts at the end of the string and works to the front.\n",
            " |  \n",
            " |  rstrip(self, chars=None, /)\n",
            " |      Return a copy of the string with trailing whitespace removed.\n",
            " |      \n",
            " |      If chars is given and not None, remove characters in chars instead.\n",
            " |  \n",
            " |  split(self, /, sep=None, maxsplit=-1)\n",
            " |      Return a list of the substrings in the string, using sep as the separator string.\n",
            " |      \n",
            " |        sep\n",
            " |          The separator used to split the string.\n",
            " |      \n",
            " |          When set to None (the default value), will split on any whitespace\n",
            " |          character (including \\\\n \\\\r \\\\t \\\\f and spaces) and will discard\n",
            " |          empty strings from the result.\n",
            " |        maxsplit\n",
            " |          Maximum number of splits (starting from the left).\n",
            " |          -1 (the default value) means no limit.\n",
            " |      \n",
            " |      Note, str.split() is mainly useful for data that has been intentionally\n",
            " |      delimited.  With natural text that includes punctuation, consider using\n",
            " |      the regular expression module.\n",
            " |  \n",
            " |  splitlines(self, /, keepends=False)\n",
            " |      Return a list of the lines in the string, breaking at line boundaries.\n",
            " |      \n",
            " |      Line breaks are not included in the resulting list unless keepends is given and\n",
            " |      true.\n",
            " |  \n",
            " |  startswith(...)\n",
            " |      S.startswith(prefix[, start[, end]]) -> bool\n",
            " |      \n",
            " |      Return True if S starts with the specified prefix, False otherwise.\n",
            " |      With optional start, test S beginning at that position.\n",
            " |      With optional end, stop comparing S at that position.\n",
            " |      prefix can also be a tuple of strings to try.\n",
            " |  \n",
            " |  strip(self, chars=None, /)\n",
            " |      Return a copy of the string with leading and trailing whitespace removed.\n",
            " |      \n",
            " |      If chars is given and not None, remove characters in chars instead.\n",
            " |  \n",
            " |  swapcase(self, /)\n",
            " |      Convert uppercase characters to lowercase and lowercase characters to uppercase.\n",
            " |  \n",
            " |  title(self, /)\n",
            " |      Return a version of the string where each word is titlecased.\n",
            " |      \n",
            " |      More specifically, words start with uppercased characters and all remaining\n",
            " |      cased characters have lower case.\n",
            " |  \n",
            " |  translate(self, table, /)\n",
            " |      Replace each character in the string using the given translation table.\n",
            " |      \n",
            " |        table\n",
            " |          Translation table, which must be a mapping of Unicode ordinals to\n",
            " |          Unicode ordinals, strings, or None.\n",
            " |      \n",
            " |      The table must implement lookup/indexing via __getitem__, for instance a\n",
            " |      dictionary or list.  If this operation raises LookupError, the character is\n",
            " |      left untouched.  Characters mapped to None are deleted.\n",
            " |  \n",
            " |  upper(self, /)\n",
            " |      Return a copy of the string converted to uppercase.\n",
            " |  \n",
            " |  zfill(self, width, /)\n",
            " |      Pad a numeric string with zeros on the left, to fill a field of the given width.\n",
            " |      \n",
            " |      The string is never truncated.\n",
            " |  \n",
            " |  ----------------------------------------------------------------------\n",
            " |  Static methods defined here:\n",
            " |  \n",
            " |  __new__(*args, **kwargs) from builtins.type\n",
            " |      Create and return a new object.  See help(type) for accurate signature.\n",
            " |  \n",
            " |  maketrans(...)\n",
            " |      Return a translation table usable for str.translate().\n",
            " |      \n",
            " |      If there is only one argument, it must be a dictionary mapping Unicode\n",
            " |      ordinals (integers) or characters to Unicode ordinals, strings or None.\n",
            " |      Character keys will be then converted to ordinals.\n",
            " |      If there are two arguments, they must be strings of equal length, and\n",
            " |      in the resulting dictionary, each character in x will be mapped to the\n",
            " |      character at the same position in y. If there is a third argument, it\n",
            " |      must be a string, whose characters will be mapped to None in the result.\n",
            "\n"
          ]
        }
      ],
      "source": [
        "help(str)"
      ]
    },
    {
      "cell_type": "code",
      "execution_count": null,
      "id": "d8068875",
      "metadata": {
        "id": "d8068875",
        "outputId": "2eb8af71-1c52-49ea-83ac-148902204421"
      },
      "outputs": [
        {
          "data": {
            "text/plain": [
              "type"
            ]
          },
          "execution_count": 5,
          "metadata": {},
          "output_type": "execute_result"
        }
      ],
      "source": [
        "type(str)"
      ]
    },
    {
      "cell_type": "markdown",
      "id": "1ef640ba",
      "metadata": {
        "id": "1ef640ba"
      },
      "source": [
        "Las funciones también son objetos en Python."
      ]
    },
    {
      "cell_type": "code",
      "execution_count": null,
      "id": "4d55db87",
      "metadata": {
        "id": "4d55db87",
        "outputId": "c9df3c74-7704-47ec-fdca-0d08f53a36ea"
      },
      "outputs": [
        {
          "name": "stdout",
          "output_type": "stream",
          "text": [
            "\n"
          ]
        }
      ],
      "source": [
        "print()"
      ]
    },
    {
      "cell_type": "code",
      "execution_count": null,
      "id": "aaa5da4b",
      "metadata": {
        "id": "aaa5da4b",
        "outputId": "21e553b5-10e7-496e-b4a4-16ee25cabfbc"
      },
      "outputs": [
        {
          "data": {
            "text/plain": [
              "builtin_function_or_method"
            ]
          },
          "execution_count": 46,
          "metadata": {},
          "output_type": "execute_result"
        }
      ],
      "source": [
        "type(print)"
      ]
    },
    {
      "cell_type": "markdown",
      "id": "fe74bb60",
      "metadata": {
        "id": "fe74bb60"
      },
      "source": [
        "### Variables: La Referencia a Objetos\n",
        "\n",
        "Piensa en una variable como una celda en una hoja de cálculo de Excel. Puedes almacenar datos en ella, como un número, texto o una fórmula.\n",
        "\n",
        "**Variable**: Un nombre definido que referencia a un objeto."
      ]
    },
    {
      "cell_type": "code",
      "execution_count": null,
      "id": "0fb0d189",
      "metadata": {
        "id": "0fb0d189"
      },
      "outputs": [],
      "source": [
        "trabajo = \"Data Analyst\"\n",
        "salario = 90000\n",
        "my_print_function = print"
      ]
    },
    {
      "cell_type": "code",
      "execution_count": null,
      "id": "5199770e",
      "metadata": {
        "id": "5199770e",
        "outputId": "18a81fbc-aeeb-4fd3-9013-79a95feae807"
      },
      "outputs": [
        {
          "name": "stdout",
          "output_type": "stream",
          "text": [
            "Data Analyst 90000\n"
          ]
        }
      ],
      "source": [
        "my_print_function(trabajo, salario)"
      ]
    },
    {
      "cell_type": "code",
      "execution_count": null,
      "id": "a03cbbf0",
      "metadata": {
        "id": "a03cbbf0",
        "outputId": "cbc584c3-90a7-45ad-9c98-ee4b1549cf1d"
      },
      "outputs": [
        {
          "data": {
            "text/plain": [
              "(2042594173360, 2042594565936, 2042494886960)"
            ]
          },
          "execution_count": 9,
          "metadata": {},
          "output_type": "execute_result"
        }
      ],
      "source": [
        "# cada variable tiene un identificador único\n",
        "id(trabajo), id(salario), id(my_print_function),"
      ]
    },
    {
      "cell_type": "markdown",
      "id": "864e8619",
      "metadata": {
        "id": "864e8619"
      },
      "source": [
        "Las variables que referencian el mismo objeto son... las mismas."
      ]
    },
    {
      "cell_type": "code",
      "execution_count": null,
      "id": "4b917379",
      "metadata": {
        "id": "4b917379",
        "outputId": "3db28d9a-4e76-4498-cc08-12ce49a11851"
      },
      "outputs": [
        {
          "data": {
            "text/plain": [
              "'Data Analyst'"
            ]
          },
          "execution_count": 12,
          "metadata": {},
          "output_type": "execute_result"
        }
      ],
      "source": [
        "seba_trabajo = trabajo\n",
        "\n",
        "seba_trabajo"
      ]
    },
    {
      "cell_type": "code",
      "execution_count": null,
      "id": "fc07b63c",
      "metadata": {
        "id": "fc07b63c",
        "outputId": "b04ac0cf-5f52-43e5-9404-97db3ddf9d98"
      },
      "outputs": [
        {
          "data": {
            "text/plain": [
              "(2042594173360, 2042594173360)"
            ]
          },
          "execution_count": 13,
          "metadata": {},
          "output_type": "execute_result"
        }
      ],
      "source": [
        "# the id of the same object is the same\n",
        "id(trabajo), id(seba_trabajo)"
      ]
    },
    {
      "cell_type": "markdown",
      "id": "f367a47d",
      "metadata": {
        "id": "f367a47d"
      },
      "source": [
        "Sin embargo, las variables que pueden parecer iguales, pero referencian objetos diferentes son... diferentes"
      ]
    },
    {
      "cell_type": "code",
      "execution_count": null,
      "id": "a5aa7f31",
      "metadata": {
        "id": "a5aa7f31",
        "outputId": "be0f0313-9eb8-4336-8e23-98f3749c3ea1"
      },
      "outputs": [
        {
          "data": {
            "text/plain": [
              "(2042594173360, 2042594173360)"
            ]
          },
          "execution_count": 14,
          "metadata": {},
          "output_type": "execute_result"
        }
      ],
      "source": [
        "trabajo1 = \"Data Analyst\"\n",
        "trabajo2 = \"Data Analyst\"\n",
        "\n",
        "# the id of the same object is the same\n",
        "id(trabajo), id(trabajo)"
      ]
    },
    {
      "cell_type": "markdown",
      "id": "c246c6c4",
      "metadata": {
        "id": "c246c6c4"
      },
      "source": [
        "### Funciones: Los Manipuladores de Objetos\n",
        "\n",
        "Las funciones son como fórmulas personalizadas en Excel. Realizan tareas que se pueden aplicar a diferentes conjuntos de datos.\n",
        "\n",
        "**Función**: Un bloque de código reutilizable que realiza una tarea específica.\n"
      ]
    },
    {
      "cell_type": "markdown",
      "id": "325b4fb8",
      "metadata": {
        "id": "325b4fb8"
      },
      "source": [
        "The `print()` we saw already is a function."
      ]
    },
    {
      "cell_type": "code",
      "execution_count": null,
      "id": "2c21a898",
      "metadata": {
        "id": "2c21a898",
        "outputId": "0104fd75-543d-4a0a-8ede-39f12ea69c7b"
      },
      "outputs": [
        {
          "name": "stdout",
          "output_type": "stream",
          "text": [
            "¡Qué tal, Data Nerds!\n"
          ]
        }
      ],
      "source": [
        "# Proporciona los argumentos de la función `print()` entre paréntesis\n",
        "print(\"¡Qué tal, Data Nerds!\")"
      ]
    },
    {
      "cell_type": "markdown",
      "id": "3d192b12",
      "metadata": {
        "id": "3d192b12"
      },
      "source": [
        "I could make this into a function:"
      ]
    },
    {
      "cell_type": "code",
      "execution_count": null,
      "id": "2b8e4685",
      "metadata": {
        "id": "2b8e4685"
      },
      "outputs": [],
      "source": [
        "def saludo():\n",
        "    return \"What's up, Data Nerds!\""
      ]
    },
    {
      "cell_type": "code",
      "execution_count": null,
      "id": "ad74e3c2",
      "metadata": {
        "id": "ad74e3c2",
        "outputId": "0e088703-875b-49fa-8314-3e7bcb4f5546"
      },
      "outputs": [
        {
          "data": {
            "text/plain": [
              "\"What's up, Data Nerds!\""
            ]
          },
          "execution_count": 19,
          "metadata": {},
          "output_type": "execute_result"
        }
      ],
      "source": [
        "saludo()"
      ]
    },
    {
      "cell_type": "markdown",
      "id": "03389c5d",
      "metadata": {
        "id": "03389c5d"
      },
      "source": [
        "Aquí tienes una función personalizada que imprime nuestra información laboral de manera ordenada:"
      ]
    },
    {
      "cell_type": "code",
      "execution_count": null,
      "id": "66b6ee25",
      "metadata": {
        "id": "66b6ee25"
      },
      "outputs": [],
      "source": [
        "def display_info(trabajo, lugar, salario):\n",
        "    return print(f\"Trabajo: {trabajo} \\nLugar: {lugar}\\nSalario: ${salario:,.0f}\")"
      ]
    },
    {
      "cell_type": "code",
      "execution_count": null,
      "id": "a453263c",
      "metadata": {
        "id": "a453263c",
        "outputId": "ca968004-fda3-452f-dff3-bb7b8e67d371"
      },
      "outputs": [
        {
          "name": "stdout",
          "output_type": "stream",
          "text": [
            "Trabajo: Data Analyst \n",
            "Lugar: CMF\n",
            "Salario: $100\n"
          ]
        }
      ],
      "source": [
        "trabajo = \"Data Analyst\"\n",
        "lugar = \"CMF\"\n",
        "salario = 100\n",
        "\n",
        "display_info(trabajo, lugar, salario)"
      ]
    },
    {
      "cell_type": "markdown",
      "id": "b7fb6cbf",
      "metadata": {
        "id": "b7fb6cbf"
      },
      "source": [
        "### Clases: La Plantilla de Objetos\n",
        "\n",
        "Una clase es como una plantilla para tus registros en Excel. Define los campos que tendrá cada registro.\n",
        "\n",
        "**Clase**: Una plantilla para crear objetos (registros)."
      ]
    },
    {
      "cell_type": "code",
      "execution_count": null,
      "id": "2cfd7804",
      "metadata": {
        "id": "2cfd7804"
      },
      "outputs": [],
      "source": [
        "class TrabajoPost:\n",
        "    def __init__(self, trabajo, lugar, salario):\n",
        "        self.trabajo = trabajo\n",
        "        self.lugar = lugar\n",
        "        self.salario = salario\n",
        "\n",
        "    def display_info(self):\n",
        "        return print(f\"Trabajo: {self.trabajo} \\nlugar:  {self.lugar}\\nsalario:    ${self.salario:,.0f}\")"
      ]
    },
    {
      "cell_type": "code",
      "execution_count": null,
      "id": "d0f7b6c5",
      "metadata": {
        "id": "d0f7b6c5",
        "outputId": "2878f3e6-4103-49ad-f885-257b724bcd6e"
      },
      "outputs": [
        {
          "data": {
            "text/plain": [
              "__main__.TrabajoPost"
            ]
          },
          "execution_count": 59,
          "metadata": {},
          "output_type": "execute_result"
        }
      ],
      "source": [
        "TrabajoPost"
      ]
    },
    {
      "cell_type": "markdown",
      "id": "ab6c2389",
      "metadata": {
        "id": "ab6c2389"
      },
      "source": [
        "En las próximas lecciones, cubriremos los tipos de datos que están construidos con clases."
      ]
    },
    {
      "cell_type": "markdown",
      "id": "f5537cd8",
      "metadata": {
        "id": "f5537cd8"
      },
      "source": [
        "### Atributos: Las Variables de un Objeto\n",
        "\n",
        "Los atributos son como las columnas en tu hoja de cálculo. Cada atributo almacena datos específicos para cada registro.\n",
        "\n",
        "**Atributo**: Un campo en un registro, definido por su clase."
      ]
    },
    {
      "cell_type": "code",
      "execution_count": null,
      "id": "38341fa0",
      "metadata": {
        "id": "38341fa0"
      },
      "outputs": [],
      "source": [
        "class TrabajoPost:\n",
        "    def __init__(self, trabajo, lugar, salario):\n",
        "        self.trabajo = trabajo  # Attribute\n",
        "        self.lugar = lugar  # Attribute\n",
        "        self.salario = salario  # Attribute\n",
        "\n",
        "    def display_info(self):\n",
        "        return print(f\"Trabajo: {self.trabajo}\\nlugar:  {self.lugar}\\nsalario:    ${self.salario:,.0f}\")"
      ]
    },
    {
      "cell_type": "code",
      "execution_count": null,
      "id": "dcd89f8a",
      "metadata": {
        "id": "dcd89f8a"
      },
      "outputs": [],
      "source": [
        "job = TrabajoPost(\"Data Engineer\", \"New York, NY\", 425000)"
      ]
    },
    {
      "cell_type": "code",
      "execution_count": null,
      "id": "fbd5b34d",
      "metadata": {
        "id": "fbd5b34d",
        "outputId": "8c9b5cf5-ab56-4d3b-8bc4-565c34f3c540"
      },
      "outputs": [
        {
          "data": {
            "text/plain": [
              "'Data Engineer'"
            ]
          },
          "execution_count": 69,
          "metadata": {},
          "output_type": "execute_result"
        }
      ],
      "source": [
        "job.trabajo"
      ]
    },
    {
      "cell_type": "code",
      "execution_count": null,
      "id": "a6ccd019",
      "metadata": {
        "id": "a6ccd019",
        "outputId": "f9d25b9c-7923-464a-d00d-35110cf42879"
      },
      "outputs": [
        {
          "data": {
            "text/plain": [
              "425000"
            ]
          },
          "execution_count": 64,
          "metadata": {},
          "output_type": "execute_result"
        }
      ],
      "source": [
        "job.salario"
      ]
    },
    {
      "cell_type": "markdown",
      "id": "87300d79",
      "metadata": {
        "id": "87300d79"
      },
      "source": [
        "### Métodos: Las Funciones de un Objeto\n",
        "\n",
        "Los métodos son como las funciones integradas en Excel que operan en tus registros. Definen las acciones que los registros pueden realizar.\n",
        "\n",
        "**Método**: Una función definida dentro de una clase que opera sobre sus objetos."
      ]
    },
    {
      "cell_type": "code",
      "execution_count": null,
      "id": "00414ac1",
      "metadata": {
        "id": "00414ac1",
        "outputId": "ae07b8b2-f8b1-4e85-adc4-1092b58ecd06"
      },
      "outputs": [
        {
          "name": "stdout",
          "output_type": "stream",
          "text": [
            "Trabajo: Data Engineer\n",
            "lugar:  New York, NY\n",
            "salario:    $425,000\n"
          ]
        }
      ],
      "source": [
        "job = TrabajoPost(\"Data Engineer\", \"New York, NY\", 425000)\n",
        "\n",
        "job.display_info()"
      ]
    }
  ],
  "metadata": {
    "kernelspec": {
      "display_name": "python_course",
      "language": "python",
      "name": "python3"
    },
    "language_info": {
      "codemirror_mode": {
        "name": "ipython",
        "version": 3
      },
      "file_extension": ".py",
      "mimetype": "text/x-python",
      "name": "python",
      "nbconvert_exporter": "python",
      "pygments_lexer": "ipython3",
      "version": "3.11.5"
    },
    "colab": {
      "provenance": [],
      "include_colab_link": true
    }
  },
  "nbformat": 4,
  "nbformat_minor": 5
}