{
  "cells": [
    {
      "cell_type": "markdown",
      "metadata": {
        "id": "view-in-github",
        "colab_type": "text"
      },
      "source": [
        "<a href=\"https://colab.research.google.com/github/sebabecerra/CursoBasicoPython/blob/main/03_Data_Types.ipynb\" target=\"_parent\"><img src=\"https://colab.research.google.com/assets/colab-badge.svg\" alt=\"Open In Colab\"/></a>"
      ]
    },
    {
      "cell_type": "markdown",
      "metadata": {
        "id": "shreMWAMh_HR"
      },
      "source": [
        "# Data Types"
      ]
    },
    {
      "cell_type": "markdown",
      "metadata": {
        "id": "N-TG-gkKzHvt"
      },
      "source": [
        "## Visión General\n",
        "\n",
        "### Notas\n",
        "\n",
        "#### ¿Qué son los Tipos de Datos?\n",
        "\n",
        "* Python puede almacenar datos de diferentes tipos.\n",
        "* Estos tipos pueden hacer cosas diferentes.\n",
        "\n",
        "#### ¿Qué podemos hacer con los Tipos de Datos?\n",
        "\n",
        "Bueno, con `int` podemos hacer operaciones matemáticas como `+` y `-`.\n"
      ]
    },
    {
      "cell_type": "code",
      "execution_count": null,
      "metadata": {
        "id": "sWfu9GD3zHvw"
      },
      "outputs": [],
      "source": [
        "salario_total = 110000\n",
        "bono = 10000"
      ]
    },
    {
      "cell_type": "code",
      "execution_count": null,
      "metadata": {
        "id": "dM7J1tptzHvx",
        "outputId": "af4726bb-7405-462a-adf5-6433962cd4ac"
      },
      "outputs": [
        {
          "data": {
            "text/plain": [
              "int"
            ]
          },
          "execution_count": 3,
          "metadata": {},
          "output_type": "execute_result"
        }
      ],
      "source": [
        "type(salario_total)"
      ]
    },
    {
      "cell_type": "code",
      "execution_count": null,
      "metadata": {
        "id": "Y_pOuMW3zHvy",
        "outputId": "773a56f8-d044-42e8-e6cd-b342c64d65fe"
      },
      "outputs": [
        {
          "data": {
            "text/plain": [
              "100000"
            ]
          },
          "execution_count": 5,
          "metadata": {},
          "output_type": "execute_result"
        }
      ],
      "source": [
        "salario_base = salario_total - bono\n",
        "\n",
        "salario_base"
      ]
    },
    {
      "cell_type": "markdown",
      "metadata": {
        "id": "QHXkXLJlzHvy"
      },
      "source": [
        "Sin embargo, eso no significa que podamos hacer lo mismo con `str`."
      ]
    },
    {
      "cell_type": "code",
      "execution_count": null,
      "metadata": {
        "id": "D_M1Kr2TzHvz"
      },
      "outputs": [],
      "source": [
        "job_title = 'Data Analyst'\n",
        "remove_word = 'Data'"
      ]
    },
    {
      "cell_type": "code",
      "execution_count": null,
      "metadata": {
        "id": "R-xmPPALzHvz",
        "outputId": "e4fc225d-ce07-436f-98f7-4795d3238123"
      },
      "outputs": [
        {
          "data": {
            "text/plain": [
              "str"
            ]
          },
          "execution_count": 8,
          "metadata": {},
          "output_type": "execute_result"
        }
      ],
      "source": [
        "type(job_title)"
      ]
    },
    {
      "cell_type": "code",
      "execution_count": null,
      "metadata": {
        "id": "bgVU27JEzHvz",
        "outputId": "8324cfc9-1685-41b7-a6c0-985691ac68cf"
      },
      "outputs": [
        {
          "ename": "TypeError",
          "evalue": "unsupported operand type(s) for -: 'str' and 'str'",
          "output_type": "error",
          "traceback": [
            "\u001b[1;31m---------------------------------------------------------------------------\u001b[0m",
            "\u001b[1;31mTypeError\u001b[0m                                 Traceback (most recent call last)",
            "Cell \u001b[1;32mIn[9], line 1\u001b[0m\n\u001b[1;32m----> 1\u001b[0m final_title \u001b[38;5;241m=\u001b[39m job_title \u001b[38;5;241m-\u001b[39m remove_word\n\u001b[0;32m      3\u001b[0m final_title\n",
            "\u001b[1;31mTypeError\u001b[0m: unsupported operand type(s) for -: 'str' and 'str'"
          ]
        }
      ],
      "source": [
        "final_title = job_title - remove_word\n",
        "\n",
        "final_title"
      ]
    },
    {
      "cell_type": "markdown",
      "metadata": {
        "id": "tOqrAncRzHv0"
      },
      "source": [
        "#### Tipos Incorporados\n",
        "\n",
        "Python tiene los siguientes tipos de datos incorporados por defecto:\n",
        "| Tipo               | Tipo de Dato        | Ejemplo               |\n",
        "|--------------------|---------------------|-----------------------|\n",
        "| Texto              | `str`               | `\"¡Aficionado a los datos!\"`     |\n",
        "| Numérico           | `int`               | `42`                  |\n",
        "|                    | `float`             | `3.14159`             |\n",
        "|                    | `complex`           | `1 + 2j`              |\n",
        "| Secuencia          | `list`              | `[1, 2, 3]`           |\n",
        "|                    | `tuple`             | `(1, 2, 3)`           |\n",
        "|                    | `range`             | `range(10)`           |\n",
        "| Mapeo              | `dict`              | `{\"clave\": \"valor\"}`    |\n",
        "| Conjunto           | `set`               | `{1, 2, 3}`           |\n",
        "|                    | `frozenset`         | `frozenset([1, 2, 3])`|\n",
        "| Booleano           | `bool`              | `True` o `False`     |\n",
        "| Binario            | `bytes`             | `b\"Datos\"`            |\n",
        "|                    | `bytearray`         | `bytearray(5)`        |\n",
        "|                    | `memoryview`        | `memoryview(b\"Datos\")`|\n",
        "| Ninguno            | `NoneType`          | `None`                |\n",
        "\n",
        "Para más información sobre los diferentes tipos de datos en Python, consulta la documentación de Python sobre tipos de datos [aquí](https://docs.python.org/3/library/datatypes.html).\n",
        "\n",
        "#### Tipos Comunes en Análisis de Datos\n",
        "\n",
        "Nos centraremos principalmente en los más comunes en análisis de datos:\n",
        "* Tipo de Texto: `str`\n",
        "* Tipos Numéricos: `int`, `float`\n",
        "* Tipos de Secuencia: `list`, `tuples`\n",
        "* Tipo de Mapeo: `dict`\n",
        "* Tipos de Conjunto: `set`\n",
        "\n",
        "### Importancia\n",
        "\n",
        "Fundamental para el procesamiento de datos. Pandas y matplotlib manejan automáticamente diferentes tipos de datos para operaciones como cálculos matemáticos, manipulación de datos y gráficos.\n",
        "\n",
        "\n"
      ]
    },
    {
      "cell_type": "markdown",
      "metadata": {
        "id": "uvdAFpLgjAS2"
      },
      "source": [
        "## Ver Tipo de Dato\n",
        "\n",
        "### Notas\n",
        "\n",
        "* Ver el tipo de dato usando la función `type()`\n",
        "\n",
        "### Ejemplo\n"
      ]
    },
    {
      "cell_type": "code",
      "execution_count": null,
      "metadata": {
        "colab": {
          "base_uri": "https://localhost:8080/"
        },
        "id": "Rwjxvkw0ib8Q",
        "outputId": "67cb5dfb-2c22-403e-b834-8a16468239d8"
      },
      "outputs": [
        {
          "data": {
            "text/plain": [
              "str"
            ]
          },
          "execution_count": 10,
          "metadata": {},
          "output_type": "execute_result"
        }
      ],
      "source": [
        "company_name = \"CMF\"\n",
        "\n",
        "type(company_name)"
      ]
    },
    {
      "cell_type": "markdown",
      "metadata": {
        "id": "r5-xDJlkzHv1"
      },
      "source": [
        "También puedes usar funciones dentro de otras funciones."
      ]
    },
    {
      "cell_type": "code",
      "execution_count": null,
      "metadata": {
        "id": "omWxZFR6zHv1",
        "outputId": "a5a7a55c-6140-430e-8904-959c17dd76f5"
      },
      "outputs": [
        {
          "name": "stdout",
          "output_type": "stream",
          "text": [
            "<class 'str'>\n"
          ]
        }
      ],
      "source": [
        "print(type(company_name))"
      ]
    },
    {
      "cell_type": "markdown",
      "metadata": {
        "id": "VK4yX07UzHv1"
      },
      "source": [
        "**Nota**: Realmente no necesitamos usar `print()` aquí, ya que los Jupyter Notebooks siempre imprimen el último objeto."
      ]
    },
    {
      "cell_type": "markdown",
      "metadata": {
        "id": "KPY13z_NeY1G"
      },
      "source": [
        "## Verificar Tipos de Datos\n",
        "\n",
        "Verifica los tipos de datos de las variables usando la función `type()`.\n",
        "\n",
        "Nota: En este caso estamos usando `print()` para que podamos ver todos los tipos de datos de nuestras variables."
      ]
    },
    {
      "cell_type": "code",
      "execution_count": null,
      "metadata": {
        "id": "B3lWCISpzHv2"
      },
      "outputs": [],
      "source": [
        "job_id = 102\n",
        "company_name = 'Data Nerd, Inc.'\n",
        "job_title = 'Data Scientist'\n",
        "salary_rate = 170000.00\n",
        "job_work_from_home = True"
      ]
    },
    {
      "cell_type": "code",
      "execution_count": null,
      "metadata": {
        "colab": {
          "base_uri": "https://localhost:8080/"
        },
        "id": "kgKC_YhijkRn",
        "outputId": "72365065-ca5e-4bee-b0df-9ec213421261"
      },
      "outputs": [
        {
          "name": "stdout",
          "output_type": "stream",
          "text": [
            "<class 'int'>\n",
            "<class 'str'>\n",
            "<class 'str'>\n",
            "<class 'float'>\n",
            "<class 'bool'>\n"
          ]
        }
      ],
      "source": [
        "# Check data types\n",
        "print(type(job_id))\n",
        "print(type(company_name))\n",
        "print(type(job_title))\n",
        "print(type(salary_rate))\n",
        "print(type(job_work_from_home))"
      ]
    },
    {
      "cell_type": "markdown",
      "metadata": {
        "id": "wgyIA0ewzHv2"
      },
      "source": [
        "También puedes verificar si una variable es del tipo que piensas. Usando `isinstance()`. Tiene dos argumentos:\n",
        "1. *Objeto* - lo que quieres verificar\n",
        "2. *Tipo* - un tipo (lo que quieres usar para ver el objeto)\n",
        "\n",
        "Por ejemplo, si quiero verificar si `job_id` es del tipo `float`. Si es del tipo que especificas, devolverá `True`; si no, devolverá `False`."
      ]
    },
    {
      "cell_type": "code",
      "execution_count": null,
      "metadata": {
        "id": "zzKGaDGozHv3",
        "outputId": "9dd32ed2-1a7f-4d1b-ffdc-8996150c6512"
      },
      "outputs": [
        {
          "data": {
            "text/plain": [
              "False"
            ]
          },
          "execution_count": 15,
          "metadata": {},
          "output_type": "execute_result"
        }
      ],
      "source": [
        "isinstance(job_id, float)"
      ]
    },
    {
      "cell_type": "code",
      "execution_count": null,
      "metadata": {
        "id": "rMTIkumqzHv3",
        "outputId": "b95e4fe0-a6cd-4a25-f66c-b9e6680321ce"
      },
      "outputs": [
        {
          "data": {
            "text/plain": [
              "True"
            ]
          },
          "execution_count": 16,
          "metadata": {},
          "output_type": "execute_result"
        }
      ],
      "source": [
        "isinstance(company_name, str)"
      ]
    },
    {
      "cell_type": "markdown",
      "metadata": {
        "id": "D8u8CiIDzHv3"
      },
      "source": [
        "Alerta: En general usaremos `isinstance()` en proyectos avanzados 😈\n"
      ]
    },
    {
      "cell_type": "markdown",
      "metadata": {
        "id": "EQGJhKBWzHv3"
      },
      "source": [
        "## Obtener `help()` sobre Tipos de Datos (o realmente cualquier cosa)\n",
        "\n",
        "Podemos usar la función `help()` para investigar tipos de datos, funciones, métodos... ¡realmente cualquier objeto!"
      ]
    },
    {
      "cell_type": "code",
      "execution_count": null,
      "metadata": {
        "id": "OU7SOGEczHv4",
        "outputId": "dba11f06-aebd-4c9a-ca9d-a339d60c5b50"
      },
      "outputs": [
        {
          "name": "stdout",
          "output_type": "stream",
          "text": [
            "Help on built-in function isinstance in module builtins:\n",
            "\n",
            "isinstance(obj, class_or_tuple, /)\n",
            "    Return whether an object is an instance of a class or of a subclass thereof.\n",
            "    \n",
            "    A tuple, as in ``isinstance(x, (A, B, ...))``, may be given as the target to\n",
            "    check against. This is equivalent to ``isinstance(x, A) or isinstance(x, B)\n",
            "    or ...`` etc.\n",
            "\n"
          ]
        }
      ],
      "source": [
        "help(isinstance)"
      ]
    },
    {
      "cell_type": "markdown",
      "metadata": {
        "id": "QweK7TYLzHv4"
      },
      "source": [
        "Using the `help()` function we can see what \"methods\" are available to a data type.\n",
        "\n",
        "A \"method\" in Python is like a tool that performs a specific task on or with an object.  \n",
        "\n",
        "For instance, a string object has a method `.upper()`, which you can use like `your_string.upper()`. This takes `your_string` and turns all its letters to uppercase. It's like asking the string to explain itself."
      ]
    },
    {
      "cell_type": "code",
      "execution_count": null,
      "metadata": {
        "id": "2EjUJpc9zHv4",
        "outputId": "4009efea-c7a4-4afc-c5c6-a36747633955"
      },
      "outputs": [
        {
          "name": "stdout",
          "output_type": "stream",
          "text": [
            "Help on class str in module builtins:\n",
            "\n",
            "class str(object)\n",
            " |  str(object='') -> str\n",
            " |  str(bytes_or_buffer[, encoding[, errors]]) -> str\n",
            " |  \n",
            " |  Create a new string object from the given object. If encoding or\n",
            " |  errors is specified, then the object must expose a data buffer\n",
            " |  that will be decoded using the given encoding and error handler.\n",
            " |  Otherwise, returns the result of object.__str__() (if defined)\n",
            " |  or repr(object).\n",
            " |  encoding defaults to sys.getdefaultencoding().\n",
            " |  errors defaults to 'strict'.\n",
            " |  \n",
            " |  Methods defined here:\n",
            " |  \n",
            " |  __add__(self, value, /)\n",
            " |      Return self+value.\n",
            " |  \n",
            " |  __contains__(self, key, /)\n",
            " |      Return key in self.\n",
            " |  \n",
            " |  __eq__(self, value, /)\n",
            " |      Return self==value.\n",
            " |  \n",
            " |  __format__(self, format_spec, /)\n",
            " |      Return a formatted version of the string as described by format_spec.\n",
            " |  \n",
            " |  __ge__(self, value, /)\n",
            " |      Return self>=value.\n",
            " |  \n",
            " |  __getattribute__(self, name, /)\n",
            " |      Return getattr(self, name).\n",
            " |  \n",
            " |  __getitem__(self, key, /)\n",
            " |      Return self[key].\n",
            " |  \n",
            " |  __getnewargs__(...)\n",
            " |  \n",
            " |  __gt__(self, value, /)\n",
            " |      Return self>value.\n",
            " |  \n",
            " |  __hash__(self, /)\n",
            " |      Return hash(self).\n",
            " |  \n",
            " |  __iter__(self, /)\n",
            " |      Implement iter(self).\n",
            " |  \n",
            " |  __le__(self, value, /)\n",
            " |      Return self<=value.\n",
            " |  \n",
            " |  __len__(self, /)\n",
            " |      Return len(self).\n",
            " |  \n",
            " |  __lt__(self, value, /)\n",
            " |      Return self<value.\n",
            " |  \n",
            " |  __mod__(self, value, /)\n",
            " |      Return self%value.\n",
            " |  \n",
            " |  __mul__(self, value, /)\n",
            " |      Return self*value.\n",
            " |  \n",
            " |  __ne__(self, value, /)\n",
            " |      Return self!=value.\n",
            " |  \n",
            " |  __repr__(self, /)\n",
            " |      Return repr(self).\n",
            " |  \n",
            " |  __rmod__(self, value, /)\n",
            " |      Return value%self.\n",
            " |  \n",
            " |  __rmul__(self, value, /)\n",
            " |      Return value*self.\n",
            " |  \n",
            " |  __sizeof__(self, /)\n",
            " |      Return the size of the string in memory, in bytes.\n",
            " |  \n",
            " |  __str__(self, /)\n",
            " |      Return str(self).\n",
            " |  \n",
            " |  capitalize(self, /)\n",
            " |      Return a capitalized version of the string.\n",
            " |      \n",
            " |      More specifically, make the first character have upper case and the rest lower\n",
            " |      case.\n",
            " |  \n",
            " |  casefold(self, /)\n",
            " |      Return a version of the string suitable for caseless comparisons.\n",
            " |  \n",
            " |  center(self, width, fillchar=' ', /)\n",
            " |      Return a centered string of length width.\n",
            " |      \n",
            " |      Padding is done using the specified fill character (default is a space).\n",
            " |  \n",
            " |  count(...)\n",
            " |      S.count(sub[, start[, end]]) -> int\n",
            " |      \n",
            " |      Return the number of non-overlapping occurrences of substring sub in\n",
            " |      string S[start:end].  Optional arguments start and end are\n",
            " |      interpreted as in slice notation.\n",
            " |  \n",
            " |  encode(self, /, encoding='utf-8', errors='strict')\n",
            " |      Encode the string using the codec registered for encoding.\n",
            " |      \n",
            " |      encoding\n",
            " |        The encoding in which to encode the string.\n",
            " |      errors\n",
            " |        The error handling scheme to use for encoding errors.\n",
            " |        The default is 'strict' meaning that encoding errors raise a\n",
            " |        UnicodeEncodeError.  Other possible values are 'ignore', 'replace' and\n",
            " |        'xmlcharrefreplace' as well as any other name registered with\n",
            " |        codecs.register_error that can handle UnicodeEncodeErrors.\n",
            " |  \n",
            " |  endswith(...)\n",
            " |      S.endswith(suffix[, start[, end]]) -> bool\n",
            " |      \n",
            " |      Return True if S ends with the specified suffix, False otherwise.\n",
            " |      With optional start, test S beginning at that position.\n",
            " |      With optional end, stop comparing S at that position.\n",
            " |      suffix can also be a tuple of strings to try.\n",
            " |  \n",
            " |  expandtabs(self, /, tabsize=8)\n",
            " |      Return a copy where all tab characters are expanded using spaces.\n",
            " |      \n",
            " |      If tabsize is not given, a tab size of 8 characters is assumed.\n",
            " |  \n",
            " |  find(...)\n",
            " |      S.find(sub[, start[, end]]) -> int\n",
            " |      \n",
            " |      Return the lowest index in S where substring sub is found,\n",
            " |      such that sub is contained within S[start:end].  Optional\n",
            " |      arguments start and end are interpreted as in slice notation.\n",
            " |      \n",
            " |      Return -1 on failure.\n",
            " |  \n",
            " |  format(...)\n",
            " |      S.format(*args, **kwargs) -> str\n",
            " |      \n",
            " |      Return a formatted version of S, using substitutions from args and kwargs.\n",
            " |      The substitutions are identified by braces ('{' and '}').\n",
            " |  \n",
            " |  format_map(...)\n",
            " |      S.format_map(mapping) -> str\n",
            " |      \n",
            " |      Return a formatted version of S, using substitutions from mapping.\n",
            " |      The substitutions are identified by braces ('{' and '}').\n",
            " |  \n",
            " |  index(...)\n",
            " |      S.index(sub[, start[, end]]) -> int\n",
            " |      \n",
            " |      Return the lowest index in S where substring sub is found,\n",
            " |      such that sub is contained within S[start:end].  Optional\n",
            " |      arguments start and end are interpreted as in slice notation.\n",
            " |      \n",
            " |      Raises ValueError when the substring is not found.\n",
            " |  \n",
            " |  isalnum(self, /)\n",
            " |      Return True if the string is an alpha-numeric string, False otherwise.\n",
            " |      \n",
            " |      A string is alpha-numeric if all characters in the string are alpha-numeric and\n",
            " |      there is at least one character in the string.\n",
            " |  \n",
            " |  isalpha(self, /)\n",
            " |      Return True if the string is an alphabetic string, False otherwise.\n",
            " |      \n",
            " |      A string is alphabetic if all characters in the string are alphabetic and there\n",
            " |      is at least one character in the string.\n",
            " |  \n",
            " |  isascii(self, /)\n",
            " |      Return True if all characters in the string are ASCII, False otherwise.\n",
            " |      \n",
            " |      ASCII characters have code points in the range U+0000-U+007F.\n",
            " |      Empty string is ASCII too.\n",
            " |  \n",
            " |  isdecimal(self, /)\n",
            " |      Return True if the string is a decimal string, False otherwise.\n",
            " |      \n",
            " |      A string is a decimal string if all characters in the string are decimal and\n",
            " |      there is at least one character in the string.\n",
            " |  \n",
            " |  isdigit(self, /)\n",
            " |      Return True if the string is a digit string, False otherwise.\n",
            " |      \n",
            " |      A string is a digit string if all characters in the string are digits and there\n",
            " |      is at least one character in the string.\n",
            " |  \n",
            " |  isidentifier(self, /)\n",
            " |      Return True if the string is a valid Python identifier, False otherwise.\n",
            " |      \n",
            " |      Call keyword.iskeyword(s) to test whether string s is a reserved identifier,\n",
            " |      such as \"def\" or \"class\".\n",
            " |  \n",
            " |  islower(self, /)\n",
            " |      Return True if the string is a lowercase string, False otherwise.\n",
            " |      \n",
            " |      A string is lowercase if all cased characters in the string are lowercase and\n",
            " |      there is at least one cased character in the string.\n",
            " |  \n",
            " |  isnumeric(self, /)\n",
            " |      Return True if the string is a numeric string, False otherwise.\n",
            " |      \n",
            " |      A string is numeric if all characters in the string are numeric and there is at\n",
            " |      least one character in the string.\n",
            " |  \n",
            " |  isprintable(self, /)\n",
            " |      Return True if the string is printable, False otherwise.\n",
            " |      \n",
            " |      A string is printable if all of its characters are considered printable in\n",
            " |      repr() or if it is empty.\n",
            " |  \n",
            " |  isspace(self, /)\n",
            " |      Return True if the string is a whitespace string, False otherwise.\n",
            " |      \n",
            " |      A string is whitespace if all characters in the string are whitespace and there\n",
            " |      is at least one character in the string.\n",
            " |  \n",
            " |  istitle(self, /)\n",
            " |      Return True if the string is a title-cased string, False otherwise.\n",
            " |      \n",
            " |      In a title-cased string, upper- and title-case characters may only\n",
            " |      follow uncased characters and lowercase characters only cased ones.\n",
            " |  \n",
            " |  isupper(self, /)\n",
            " |      Return True if the string is an uppercase string, False otherwise.\n",
            " |      \n",
            " |      A string is uppercase if all cased characters in the string are uppercase and\n",
            " |      there is at least one cased character in the string.\n",
            " |  \n",
            " |  join(self, iterable, /)\n",
            " |      Concatenate any number of strings.\n",
            " |      \n",
            " |      The string whose method is called is inserted in between each given string.\n",
            " |      The result is returned as a new string.\n",
            " |      \n",
            " |      Example: '.'.join(['ab', 'pq', 'rs']) -> 'ab.pq.rs'\n",
            " |  \n",
            " |  ljust(self, width, fillchar=' ', /)\n",
            " |      Return a left-justified string of length width.\n",
            " |      \n",
            " |      Padding is done using the specified fill character (default is a space).\n",
            " |  \n",
            " |  lower(self, /)\n",
            " |      Return a copy of the string converted to lowercase.\n",
            " |  \n",
            " |  lstrip(self, chars=None, /)\n",
            " |      Return a copy of the string with leading whitespace removed.\n",
            " |      \n",
            " |      If chars is given and not None, remove characters in chars instead.\n",
            " |  \n",
            " |  partition(self, sep, /)\n",
            " |      Partition the string into three parts using the given separator.\n",
            " |      \n",
            " |      This will search for the separator in the string.  If the separator is found,\n",
            " |      returns a 3-tuple containing the part before the separator, the separator\n",
            " |      itself, and the part after it.\n",
            " |      \n",
            " |      If the separator is not found, returns a 3-tuple containing the original string\n",
            " |      and two empty strings.\n",
            " |  \n",
            " |  removeprefix(self, prefix, /)\n",
            " |      Return a str with the given prefix string removed if present.\n",
            " |      \n",
            " |      If the string starts with the prefix string, return string[len(prefix):].\n",
            " |      Otherwise, return a copy of the original string.\n",
            " |  \n",
            " |  removesuffix(self, suffix, /)\n",
            " |      Return a str with the given suffix string removed if present.\n",
            " |      \n",
            " |      If the string ends with the suffix string and that suffix is not empty,\n",
            " |      return string[:-len(suffix)]. Otherwise, return a copy of the original\n",
            " |      string.\n",
            " |  \n",
            " |  replace(self, old, new, count=-1, /)\n",
            " |      Return a copy with all occurrences of substring old replaced by new.\n",
            " |      \n",
            " |        count\n",
            " |          Maximum number of occurrences to replace.\n",
            " |          -1 (the default value) means replace all occurrences.\n",
            " |      \n",
            " |      If the optional argument count is given, only the first count occurrences are\n",
            " |      replaced.\n",
            " |  \n",
            " |  rfind(...)\n",
            " |      S.rfind(sub[, start[, end]]) -> int\n",
            " |      \n",
            " |      Return the highest index in S where substring sub is found,\n",
            " |      such that sub is contained within S[start:end].  Optional\n",
            " |      arguments start and end are interpreted as in slice notation.\n",
            " |      \n",
            " |      Return -1 on failure.\n",
            " |  \n",
            " |  rindex(...)\n",
            " |      S.rindex(sub[, start[, end]]) -> int\n",
            " |      \n",
            " |      Return the highest index in S where substring sub is found,\n",
            " |      such that sub is contained within S[start:end].  Optional\n",
            " |      arguments start and end are interpreted as in slice notation.\n",
            " |      \n",
            " |      Raises ValueError when the substring is not found.\n",
            " |  \n",
            " |  rjust(self, width, fillchar=' ', /)\n",
            " |      Return a right-justified string of length width.\n",
            " |      \n",
            " |      Padding is done using the specified fill character (default is a space).\n",
            " |  \n",
            " |  rpartition(self, sep, /)\n",
            " |      Partition the string into three parts using the given separator.\n",
            " |      \n",
            " |      This will search for the separator in the string, starting at the end. If\n",
            " |      the separator is found, returns a 3-tuple containing the part before the\n",
            " |      separator, the separator itself, and the part after it.\n",
            " |      \n",
            " |      If the separator is not found, returns a 3-tuple containing two empty strings\n",
            " |      and the original string.\n",
            " |  \n",
            " |  rsplit(self, /, sep=None, maxsplit=-1)\n",
            " |      Return a list of the substrings in the string, using sep as the separator string.\n",
            " |      \n",
            " |        sep\n",
            " |          The separator used to split the string.\n",
            " |      \n",
            " |          When set to None (the default value), will split on any whitespace\n",
            " |          character (including \\\\n \\\\r \\\\t \\\\f and spaces) and will discard\n",
            " |          empty strings from the result.\n",
            " |        maxsplit\n",
            " |          Maximum number of splits (starting from the left).\n",
            " |          -1 (the default value) means no limit.\n",
            " |      \n",
            " |      Splitting starts at the end of the string and works to the front.\n",
            " |  \n",
            " |  rstrip(self, chars=None, /)\n",
            " |      Return a copy of the string with trailing whitespace removed.\n",
            " |      \n",
            " |      If chars is given and not None, remove characters in chars instead.\n",
            " |  \n",
            " |  split(self, /, sep=None, maxsplit=-1)\n",
            " |      Return a list of the substrings in the string, using sep as the separator string.\n",
            " |      \n",
            " |        sep\n",
            " |          The separator used to split the string.\n",
            " |      \n",
            " |          When set to None (the default value), will split on any whitespace\n",
            " |          character (including \\\\n \\\\r \\\\t \\\\f and spaces) and will discard\n",
            " |          empty strings from the result.\n",
            " |        maxsplit\n",
            " |          Maximum number of splits (starting from the left).\n",
            " |          -1 (the default value) means no limit.\n",
            " |      \n",
            " |      Note, str.split() is mainly useful for data that has been intentionally\n",
            " |      delimited.  With natural text that includes punctuation, consider using\n",
            " |      the regular expression module.\n",
            " |  \n",
            " |  splitlines(self, /, keepends=False)\n",
            " |      Return a list of the lines in the string, breaking at line boundaries.\n",
            " |      \n",
            " |      Line breaks are not included in the resulting list unless keepends is given and\n",
            " |      true.\n",
            " |  \n",
            " |  startswith(...)\n",
            " |      S.startswith(prefix[, start[, end]]) -> bool\n",
            " |      \n",
            " |      Return True if S starts with the specified prefix, False otherwise.\n",
            " |      With optional start, test S beginning at that position.\n",
            " |      With optional end, stop comparing S at that position.\n",
            " |      prefix can also be a tuple of strings to try.\n",
            " |  \n",
            " |  strip(self, chars=None, /)\n",
            " |      Return a copy of the string with leading and trailing whitespace removed.\n",
            " |      \n",
            " |      If chars is given and not None, remove characters in chars instead.\n",
            " |  \n",
            " |  swapcase(self, /)\n",
            " |      Convert uppercase characters to lowercase and lowercase characters to uppercase.\n",
            " |  \n",
            " |  title(self, /)\n",
            " |      Return a version of the string where each word is titlecased.\n",
            " |      \n",
            " |      More specifically, words start with uppercased characters and all remaining\n",
            " |      cased characters have lower case.\n",
            " |  \n",
            " |  translate(self, table, /)\n",
            " |      Replace each character in the string using the given translation table.\n",
            " |      \n",
            " |        table\n",
            " |          Translation table, which must be a mapping of Unicode ordinals to\n",
            " |          Unicode ordinals, strings, or None.\n",
            " |      \n",
            " |      The table must implement lookup/indexing via __getitem__, for instance a\n",
            " |      dictionary or list.  If this operation raises LookupError, the character is\n",
            " |      left untouched.  Characters mapped to None are deleted.\n",
            " |  \n",
            " |  upper(self, /)\n",
            " |      Return a copy of the string converted to uppercase.\n",
            " |  \n",
            " |  zfill(self, width, /)\n",
            " |      Pad a numeric string with zeros on the left, to fill a field of the given width.\n",
            " |      \n",
            " |      The string is never truncated.\n",
            " |  \n",
            " |  ----------------------------------------------------------------------\n",
            " |  Static methods defined here:\n",
            " |  \n",
            " |  __new__(*args, **kwargs) from builtins.type\n",
            " |      Create and return a new object.  See help(type) for accurate signature.\n",
            " |  \n",
            " |  maketrans(...)\n",
            " |      Return a translation table usable for str.translate().\n",
            " |      \n",
            " |      If there is only one argument, it must be a dictionary mapping Unicode\n",
            " |      ordinals (integers) or characters to Unicode ordinals, strings or None.\n",
            " |      Character keys will be then converted to ordinals.\n",
            " |      If there are two arguments, they must be strings of equal length, and\n",
            " |      in the resulting dictionary, each character in x will be mapped to the\n",
            " |      character at the same position in y. If there is a third argument, it\n",
            " |      must be a string, whose characters will be mapped to None in the result.\n",
            "\n"
          ]
        }
      ],
      "source": [
        "help(str) # Chequear docuemntacion of objects including: str, int, float, bool"
      ]
    },
    {
      "cell_type": "markdown",
      "metadata": {
        "id": "YlDg2juteWJ_"
      },
      "source": [
        "## Establecer Tipo de Dato\n",
        "\n",
        "### Notas\n",
        "\n",
        "* Establece el tipo de dato específico usando *funciones* constructoras.\n",
        "* Primero, ¿qué es una *función*? Vamos a profundizar mucho más en las funciones más adelante. Pero por ahora, entiende que es un bloque de código diseñado para realizar una tarea específica.\n",
        "    * Puede tomar una entrada (conocida como argumentos), ejecutar una serie de operaciones y devolver una salida.\n",
        "    * Ya hemos usado una función varias veces llamada `print()`. Esta función muestra el argumento (el texto que has estado escribiendo) en la consola.\n",
        "        * Por ejemplo, `print('hola mundo')` imprimirá 'hola mundo'.\n",
        "        * `print()` se centra en mostrar la salida.\n",
        "    * Pero la mayoría de las funciones realizan cálculos, manipulan datos o devuelven datos. Como verás a continuación.\n",
        "\n",
        "A continuación se muestran algunos tipos de datos comunes:\n",
        "\n",
        "| Tipo de Dato | Sintaxis                    | Ejemplo                           |\n",
        "|--------------|-----------------------------|-----------------------------------|\n",
        "| Cadena       | `str()`                     | `str('Hola Mundo')`               |\n",
        "| Entero       | `int()`                     | `int(20)`                         |\n",
        "| Flotante     | `float()`                   | `float(20.5)`                     |\n",
        "| Complejo     | `complex()`                 | `complex(1j)`                     |\n",
        "| Lista        | `list()`                    | `list(('manzana', 'banana', 'cereza'))` |\n",
        "| Tupla        | `tuple()`                   | `tuple(('manzana', 'banana', 'cereza'))`|\n",
        "| Rango        | `range()`                   | `range(6)`                        |\n",
        "| Diccionario  | `dict()`                    | `dict(nombre='Juan', edad=36)`    |\n",
        "| Conjunto     | `set()`                     | `set(('manzana', 'banana', 'cereza'))`  |\n",
        "| Frozenset    | `frozenset()`               | `frozenset(('manzana', 'banana', 'cereza'))`|\n",
        "| Booleano     | `bool()`                    | `bool(5)`                         |\n",
        "| Bytes        | `bytes()`                   | `bytes(5)`                        |\n",
        "| Bytearray    | `bytearray()`               | `bytearray(5)`                    |\n",
        "| Memoryview   | `memoryview()`              | `memoryview(bytes(5))`            |\n",
        "\n",
        "### Ejemplo\n",
        "\n",
        "Establece el tipo de dato específico para cada variable. Vamos a especificar una nueva oferta de trabajo."
      ]
    },
    {
      "cell_type": "markdown",
      "metadata": {
        "id": "GE7g1miFM0Ub"
      },
      "source": [
        "🪲**Depuración**\n",
        "\n",
        "**Este es un error intencional**\n",
        "\n",
        "Esto se utiliza para demostrar la depuración.\n",
        "\n",
        "Error: Falta la comilla simple `'` al final de Data Nerd, Inc.\n",
        "\n",
        "```\n",
        "company_name = str('Data Nerd, Inc.)\n",
        "```\n",
        "\n",
        "Pasos para Depurar:\n",
        "\n",
        "1. Mira el error real, ¿puedes decir cuál es el problema?\n",
        "2. Si no, entonces búscalo:\n",
        "  1. Usa un chatbot como ChatGPT o Claude\n",
        "  2. Búscalo usando Google\n",
        "  3. O pregunta a nuestro mejor amigo ChatGPT"
      ]
    },
    {
      "cell_type": "code",
      "execution_count": null,
      "metadata": {
        "id": "xwj-hdCzzHv5",
        "outputId": "d33baaba-94f2-4b69-e2d9-65d70d2438b8"
      },
      "outputs": [
        {
          "data": {
            "text/plain": [
              "int"
            ]
          },
          "execution_count": 19,
          "metadata": {},
          "output_type": "execute_result"
        }
      ],
      "source": [
        "job_id = 102\n",
        "\n",
        "type(job_id)"
      ]
    },
    {
      "cell_type": "markdown",
      "metadata": {
        "id": "rjmi5a6ezHv5"
      },
      "source": [
        "#### ¿Qué pasa si queremos que job_id tenga decimales en su lugar?"
      ]
    },
    {
      "cell_type": "code",
      "execution_count": null,
      "metadata": {
        "id": "w5Zo4CXUzHv5",
        "outputId": "b13f2c79-8288-4baa-d3e7-ff6f8fc5a426"
      },
      "outputs": [
        {
          "name": "stdout",
          "output_type": "stream",
          "text": [
            "Job ID:          102.0\n",
            "Type of Job ID:  <class 'float'>\n"
          ]
        }
      ],
      "source": [
        "# Set job_id to a float value vice an integer\n",
        "job_id = float(102)\n",
        "\n",
        "print(\"Job ID:         \", job_id)\n",
        "print(\"Type of Job ID: \", type(job_id))"
      ]
    }
  ],
  "metadata": {
    "colab": {
      "provenance": [],
      "include_colab_link": true
    },
    "kernelspec": {
      "display_name": "Python 3",
      "name": "python3"
    },
    "language_info": {
      "codemirror_mode": {
        "name": "ipython",
        "version": 3
      },
      "file_extension": ".py",
      "mimetype": "text/x-python",
      "name": "python",
      "nbconvert_exporter": "python",
      "pygments_lexer": "ipython3",
      "version": "3.11.5"
    }
  },
  "nbformat": 4,
  "nbformat_minor": 0
}